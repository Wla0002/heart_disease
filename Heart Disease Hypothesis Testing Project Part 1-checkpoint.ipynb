{
 "cells": [
  {
   "cell_type": "markdown",
   "id": "832b0943",
   "metadata": {},
   "source": [
    "### Heart Disease Research Part 1 Notebook and testing"
   ]
  },
  {
   "cell_type": "code",
   "execution_count": null,
   "id": "41529f01",
   "metadata": {},
   "outputs": [],
   "source": [
    "import pandas as pd\n",
    "import numpy as np\n",
    "\n",
    "from scipy.stats import ttest_1samp\n",
    "from scipy.stats import binom_test\n",
    "# load data\n",
    "heart = pd.read_csv('heart_disease.csv')\n",
    "yes_hd = heart[heart.heart_disease == 'presence']\n",
    "no_hd = heart[heart.heart_disease == 'absence']\n",
    "\n",
    "chol_hd = yes_hd.chol\n",
    "hd_chol_mean = np.mean(chol_hd)\n",
    "tstat, pval = ttest_1samp(chol_hd, 240)\n",
    "# print(pval/2) \n",
    "print('with a p-value of {} we reject the null hypothesis due to the fact that it shows  statistical sagnificance between the cholesterol level of 240 mg/dl and the populaion mean of {}'.format(round(pval/2, 3), round(hd_chol_mean, 2)))\n",
    "#statistically significant difference between 240 cholesterol and those who have heart disease\n",
    "chol_no_hd = no_hd.chol\n",
    "no_hd_chol_mean = np.mean(chol_no_hd)\n",
    "# print(no_hd_chol_mean)\n",
    "tstat, pval = ttest_1samp(chol_no_hd, 240)\n",
    "# print(pval/2)\n",
    "print('with a p-value of {} we fail to reject the null hypothesis due to the fact that it shows no statistical sagnificance between the cholesterol level of 240 mg/dl and the populaion mean of {}'.format(round(pval/2, 3), round(no_hd_chol_mean, 2)))\n",
    "#no statistical significance between 240 cholesterol and people without heart disease\n",
    "\n",
    "num_patients = len(heart)\n",
    "# print(num_patients)\n",
    "num_highfbs_patients = np.sum(heart.fbs == 1)\n",
    "print(num_highfbs_patients)\n",
    "percent_high_bp = num_highfbs_patients/len(heart)*100\n",
    "# print(percent_high_bp)\n",
    "us_diabetes_estimate = num_patients*.08\n",
    "print(round(us_diabetes_estimate,2))\n",
    "p_val_diabetes_rate = binom_test(num_highfbs_patients, n=num_patients, p=.08, alternative='greater')\n",
    "print('with a p-value of {} we reject the null hypothesis due to the fact that it shows statistical sagnificance in the actual number of high blood pressure patients, {} and the US diabetes estimate of {}'.format(p_val_diabetes_rate, num_highfbs_patients, round(us_diabetes_estimate,2)))\n"
   ]
  },
  {
   "cell_type": "markdown",
   "id": "979c139f",
   "metadata": {},
   "source": [
    "with a p-value of 0.004 we reject the null hypothesis due to the fact that it shows  statistical sagnificance between the cholesterol level of 240 mg/dl and the populaion mean of 251.47\n",
    "\n",
    "with a p-value of 0.264 we fail to reject the null hypothesis due to the fact that it shows no statistical sagnificance between the cholesterol level of 240 mg/dl and the populaion mean of 242.64\n",
    "\n",
    "45\n",
    "\n",
    "24.24\n",
    "\n",
    "with a p-value of 4.689471951449078e-05 we reject the null hypothesis due to the fact that it shows statistical sagnificance in the actual number of high blood pressure patients, 45 and the US diabetes estimate of 24.24"
   ]
  }
 ],
 "metadata": {
  "kernelspec": {
   "display_name": "Python 3 (ipykernel)",
   "language": "python",
   "name": "python3"
  },
  "language_info": {
   "codemirror_mode": {
    "name": "ipython",
    "version": 3
   },
   "file_extension": ".py",
   "mimetype": "text/x-python",
   "name": "python",
   "nbconvert_exporter": "python",
   "pygments_lexer": "ipython3",
   "version": "3.8.8"
  }
 },
 "nbformat": 4,
 "nbformat_minor": 5
}
